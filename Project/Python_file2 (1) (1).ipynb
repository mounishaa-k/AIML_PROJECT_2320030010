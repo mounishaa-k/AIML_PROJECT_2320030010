{
  "nbformat": 4,
  "nbformat_minor": 0,
  "metadata": {
    "colab": {
      "provenance": []
    },
    "kernelspec": {
      "name": "python3",
      "display_name": "Python 3"
    },
    "language_info": {
      "name": "python"
    }
  },
  "cells": [
    {
      "cell_type": "code",
      "execution_count": 2,
      "metadata": {
        "colab": {
          "base_uri": "https://localhost:8080/"
        },
        "id": "tajBGimUtJr9",
        "outputId": "222774a8-9488-4eb7-d551-4374e979beec"
      },
      "outputs": [
        {
          "output_type": "stream",
          "name": "stdout",
          "text": [
            "Enter the number of vertices: 7\n",
            "Enter the number of edges: 6\n",
            "Enter the edges (format: u v where u and v are 0-indexed vertex numbers):\n",
            "0 1\n",
            "2 3\n",
            "4 1\n",
            "0 2\n",
            "4 3\n",
            "1 5\n",
            "Enter the number of colors: 5\n",
            "Solution exists:  [1, 2, 2, 1, 3, 1, 1]\n"
          ]
        }
      ],
      "source": [
        "#map-colouring\n",
        "def is_safe(graph, color, v, c):\n",
        "    for i in range(len(graph[v])):\n",
        "        if graph[v][i] == 1 and color[i] == c:\n",
        "            return False\n",
        "    return True\n",
        "\n",
        "def map_coloring_util(graph, m, color, v):\n",
        "    if v == len(graph):\n",
        "        return True\n",
        "\n",
        "    for c in range(1, m + 1):\n",
        "        if is_safe(graph, color, v, c):\n",
        "            color[v] = c\n",
        "            if map_coloring_util(graph, m, color, v + 1):\n",
        "                return True\n",
        "            color[v] = 0\n",
        "\n",
        "    return False\n",
        "\n",
        "def map_coloring(graph, m):\n",
        "    color = [0] * len(graph)\n",
        "    if map_coloring_util(graph, m, color, 0):\n",
        "        return color\n",
        "    else:\n",
        "        return None\n",
        "\n",
        "# Function to get user input\n",
        "def get_user_input():\n",
        "    n = int(input(\"Enter the number of vertices: \"))\n",
        "    graph = [[0] * n for _ in range(n)]\n",
        "\n",
        "    edges = int(input(\"Enter the number of edges: \"))\n",
        "    print(\"Enter the edges (format: u v where u and v are 0-indexed vertex numbers):\")\n",
        "    for _ in range(edges):\n",
        "        u, v = map(int, input().split())\n",
        "        graph[u][v] = 1\n",
        "        graph[v][u] = 1\n",
        "\n",
        "    m = int(input(\"Enter the number of colors: \"))\n",
        "    return graph, m\n",
        "\n",
        "# Main function\n",
        "def main():\n",
        "    graph, m = get_user_input()\n",
        "    result = map_coloring(graph, m)\n",
        "\n",
        "    if result:\n",
        "        print(\"Solution exists: \", result)\n",
        "    else:\n",
        "        print(\"No solution exists\")\n",
        "\n",
        "if __name__ == \"__main__\":\n",
        "    main()\n"
      ]
    },
    {
      "cell_type": "code",
      "source": [
        "import networkx as nx\n",
        "import matplotlib.pyplot as plt\n",
        "\n",
        "# Get the nodes and edges from the user\n",
        "num_nodes = int(input(\"Enter the number of nodes: \"))\n",
        "nodes = []\n",
        "for i in range(num_nodes):\n",
        "    node = input(f\"Enter node {i+1}: \")\n",
        "    nodes.append(node)\n",
        "\n",
        "num_edges = int(input(\"Enter the number of edges: \"))\n",
        "edges = []\n",
        "for i in range(num_edges):\n",
        "    edge = input(f\"Enter edge {i+1} (format: node1 node2): \").split()\n",
        "    edges.append(tuple(edge))\n",
        "\n",
        "# Get the colors from the user\n",
        "num_colors = int(input(\"Enter the number of colors: \"))\n",
        "colors = []\n",
        "for i in range(num_colors):\n",
        "    color = input(f\"Enter color {i+1}: \")\n",
        "    colors.append(color)\n",
        "\n",
        "# Define the map as a graph\n",
        "G = nx.Graph()\n",
        "G.add_nodes_from(nodes)  # nodes\n",
        "G.add_edges_from(edges)  # edges\n",
        "\n",
        "# Function to check if a color is safe for a node\n",
        "def is_safe(node, color, colored_nodes):\n",
        "    for neighbor in G.neighbors(node):\n",
        "        if neighbor in colored_nodes and colored_nodes[neighbor] == color:\n",
        "            return False\n",
        "    return True\n",
        "\n",
        "# Function to color the map\n",
        "def color_map():\n",
        "    colored_nodes = {}\n",
        "    for node in G.nodes():\n",
        "        for color in colors:\n",
        "            if is_safe(node, color, colored_nodes):\n",
        "                colored_nodes[node] = color\n",
        "                break\n",
        "        else:\n",
        "            return None  # cannot color the node with the given colors\n",
        "    return colored_nodes\n",
        "\n",
        "# Color the map\n",
        "colored_nodes = color_map()\n",
        "\n",
        "if colored_nodes is None:\n",
        "    print(\"Insufficient colors to color the graph.\")\n",
        "else:\n",
        "    # Draw the graph with colors\n",
        "    pos = nx.spring_layout(G)\n",
        "    nx.draw_networkx_nodes(G, pos, node_color=[colored_nodes[node] for node in G.nodes()])\n",
        "    nx.draw_networkx_edges(G, pos, edge_color='black')\n",
        "    nx.draw_networkx_labels(G, pos, font_size=10)\n",
        "    plt.show()"
      ],
      "metadata": {
        "colab": {
          "base_uri": "https://localhost:8080/",
          "height": 666
        },
        "id": "w3aX0zaJyqjD",
        "outputId": "a317f82b-e2aa-41f1-8f94-e09111259161"
      },
      "execution_count": 3,
      "outputs": [
        {
          "name": "stdout",
          "output_type": "stream",
          "text": [
            "Enter the number of nodes: 5\n",
            "Enter node 1: 4\n",
            "Enter node 2: 2\n",
            "Enter node 3: 0\n",
            "Enter node 4: 5\n",
            "Enter node 5: 3\n",
            "Enter the number of edges: 4\n",
            "Enter edge 1 (format: node1 node2): 1 6\n",
            "Enter edge 2 (format: node1 node2): 3 5\n",
            "Enter edge 3 (format: node1 node2): 3 0\n",
            "Enter edge 4 (format: node1 node2): 4 2\n",
            "Enter the number of colors: 3\n",
            "Enter color 1: yellow\n",
            "Enter color 2: white\n",
            "Enter color 3: red\n"
          ]
        },
        {
          "output_type": "display_data",
          "data": {
            "text/plain": [
              "<Figure size 640x480 with 1 Axes>"
            ],
            "image/png": "[encoded data removed]"
          },
          "metadata": {}
        }
      ]
    }
  ]
}