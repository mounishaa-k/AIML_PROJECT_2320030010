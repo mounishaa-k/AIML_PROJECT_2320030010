{
  "nbformat": 4,
  "nbformat_minor": 0,
  "metadata": {
    "colab": {
      "provenance": []
    },
    "kernelspec": {
      "name": "python3",
      "display_name": "Python 3"
    },
    "language_info": {
      "name": "python"
    }
  },
  "cells": [
    {
      "cell_type": "markdown",
      "source": [
        "Uninformed Search Technique\n",
        "1.DFS\n",
        "2.BFS\n",
        "3.IDS"
      ],
      "metadata": {
        "id": "Sm6-sw2HzAmV"
      }
    },
    {
      "cell_type": "code",
      "execution_count": 3,
      "metadata": {
        "colab": {
          "base_uri": "https://localhost:8080/"
        },
        "id": "MWMHcBZUytUE",
        "outputId": "685db8e1-d401-4fd2-83bf-0034e8634955"
      },
      "outputs": [
        {
          "output_type": "stream",
          "name": "stdout",
          "text": [
            "DFS Path:['A', 'D', 'J', 'S']\n"
          ]
        }
      ],
      "source": [
        "def dfs(g,s,t,v=None):\n",
        "    if v is None:\n",
        "        v=[]\n",
        "    v.append(s)\n",
        "    if s==t:\n",
        "        return v\n",
        "    for n in g[s]:\n",
        "        if n not in v:\n",
        "            r=dfs(g,n,t,v)\n",
        "            if r:\n",
        "                return r\n",
        "    v.pop()\n",
        "    return None\n",
        "g={\n",
        "    'A':['B','C','D'],\n",
        "    'B':['E','F','G'],\n",
        "    'C':['H'],\n",
        "    'D':['I','J','K'],\n",
        "    'E':['L'],\n",
        "    'F':['M'],\n",
        "    'G':['N'],\n",
        "    'H':['O','P'],\n",
        "    'I':['Q','R'],\n",
        "    'J':['S'],\n",
        "    'K':['T'],\n",
        "    'L':[],\n",
        "    'M':[],\n",
        "    'N':[],\n",
        "    'O':[],\n",
        "    'P':[],\n",
        "    'Q':[],\n",
        "    'R':[],\n",
        "    'S':[],\n",
        "    'T':[]\n",
        "}\n",
        "p=dfs(g,'A','S')\n",
        "print(f\"DFS Path:{p}\")"
      ]
    },
    {
      "cell_type": "code",
      "source": [
        "def bfs(g, s, t):\n",
        "    q=[[s]]\n",
        "    while q:\n",
        "        p=q.pop(0)\n",
        "        n=p[-1]\n",
        "        if n==t:\n",
        "            return p\n",
        "        for nb in g[n]:\n",
        "            np=list(p)\n",
        "            np.append(nb)\n",
        "            q.append(np)\n",
        "    return None\n",
        "g={\n",
        "    'X':['Y','Z','W'],\n",
        "    'Y':['A','B','C'],\n",
        "    'Z':['D'],\n",
        "    'W':['E','F','G'],\n",
        "    'A':['H'],\n",
        "    'B':['I'],\n",
        "    'C':['J'],\n",
        "    'D':['K','L'],\n",
        "    'E':['M','N'],\n",
        "    'F':['O'],\n",
        "    'G':['P'],\n",
        "    'H':[],\n",
        "    'I':[],\n",
        "    'J':[],\n",
        "    'K':[],\n",
        "    'L':[],\n",
        "    'M':[],\n",
        "    'N':[],\n",
        "    'O':[],\n",
        "    'P':[]\n",
        "}\n",
        "p_bfs=bfs(g,'W','O')\n",
        "print(f\"BFS Path:{p_bfs}\")"
      ],
      "metadata": {
        "colab": {
          "base_uri": "https://localhost:8080/"
        },
        "id": "OwkVnwQDz_0l",
        "outputId": "e86a6351-db5d-4b22-d58a-f53dd77add05"
      },
      "execution_count": 4,
      "outputs": [
        {
          "output_type": "stream",
          "name": "stdout",
          "text": [
            "BFS Path:['W', 'F', 'O']\n"
          ]
        }
      ]
    },
    {
      "cell_type": "code",
      "source": [
        "def dls(g,s,t,d,p=None):\n",
        "    if p is None:\n",
        "        p=[]\n",
        "    p.append(s)\n",
        "    if s==t:\n",
        "        return p\n",
        "    if d<=0:\n",
        "        p.pop()\n",
        "        return None\n",
        "    for nb in g[s]:\n",
        "        if nb not in p:\n",
        "            r=dls(g,nb,t,d-1,p)\n",
        "            if r:\n",
        "                return r\n",
        "    p.pop()\n",
        "    return None\n",
        "def ids(g,s,t,md):\n",
        "    for d in range(md):\n",
        "        p=dls(g,s,t,d)\n",
        "        if p:\n",
        "            return p\n",
        "            return None\n",
        "g={\n",
        "    'X':['Y','Z','W'],\n",
        "    'Y':['A','B','C'],\n",
        "    'Z':['D'],\n",
        "    'W':['E','F','G'],\n",
        "    'A':['H'],\n",
        "    'B':['I'],\n",
        "    'C':['J'],\n",
        "    'D':['K','L'],\n",
        "    'E':['M','N'],\n",
        "    'F':['O'],\n",
        "    'G':['P'],\n",
        "    'H':[],\n",
        "    'I':[],\n",
        "    'J':[],\n",
        "    'K':[],\n",
        "    'L':[],\n",
        "    'M':[],\n",
        "    'N':[],\n",
        "    'O':[],\n",
        "    'P':[]\n",
        "}\n",
        "p_ids=ids(g,'G','P',10)\n",
        "print(f\"IDS Path:{p_ids}\")\n"
      ],
      "metadata": {
        "colab": {
          "base_uri": "https://localhost:8080/"
        },
        "id": "PMKRw33P2V4m",
        "outputId": "23f79720-f627-4964-b40e-68514961b077"
      },
      "execution_count": 5,
      "outputs": [
        {
          "output_type": "stream",
          "name": "stdout",
          "text": [
            "IDS Path:['G', 'P']\n"
          ]
        }
      ]
    },
    {
      "cell_type": "markdown",
      "source": [
        "Informed Search Technique 1.A* 2.BFS"
      ],
      "metadata": {
        "id": "sgrbSWw82_9K"
      }
    },
    {
      "cell_type": "code",
      "source": [
        "def astar(g,s,t,h):\n",
        "    open_l=[(s,[s],0)]\n",
        "    closed_l=[]\n",
        "    while open_l:\n",
        "        open_l.sort(key=lambda x:x[2]+h[x[0]])\n",
        "        c_node,p,g_cost=open_l.pop(0)\n",
        "        if c_node==t:\n",
        "            return p\n",
        "        closed_l.append(c_node)\n",
        "        for nb,cost in g[c_node]:\n",
        "            if nb in closed_l:\n",
        "                continue\n",
        "            new_g_cost=g_cost+cost\n",
        "            open_l.append((nb,p+[nb],new_g_cost))\n",
        "    return None\n",
        "g={\n",
        "    'X':[('Y',2),('Z',5),('W',3)],\n",
        "    'Y':[('A',6),('B',4),('C',7)],\n",
        "    'Z':[('D',8)],\n",
        "    'W':[('E',3),('F',4),('G',5)],\n",
        "    'A':[('H',5)],\n",
        "    'B':[('I',7)],\n",
        "    'C':[('J',3)],\n",
        "    'D':[('K',2),('L',3)],\n",
        "    'E':[('M',4),('N',5)],\n",
        "    'F':[('O',6)],\n",
        "    'G':[('P',7)],\n",
        "    'H':[],\n",
        "    'I':[],\n",
        "    'J':[],\n",
        "    'K':[],\n",
        "    'L':[],\n",
        "    'M':[],\n",
        "    'N':[],\n",
        "    'O':[],\n",
        "    'P':[]\n",
        "}\n",
        "h={\n",
        "    'X':11,'Y':9,'Z':8,'W':7,'A':7,'B':6,'C':5,'D':8,'E':7,'F':6,'G':5,\n",
        "    'H':4,'I':3,'J':5,'K':5,'L':4,'M':3,'N':4,'O':2,'P':1\n",
        "}\n",
        "p_astar=astar(g,'X','P',h)\n",
        "print(f\"A* Path:{p_astar}\")\n"
      ],
      "metadata": {
        "colab": {
          "base_uri": "https://localhost:8080/"
        },
        "id": "KLa2VTGI29yF",
        "outputId": "67f59814-a032-4e1c-a94b-585fcacec36b"
      },
      "execution_count": 8,
      "outputs": [
        {
          "output_type": "stream",
          "name": "stdout",
          "text": [
            "A* Path:['X', 'W', 'G', 'P']\n"
          ]
        }
      ]
    },
    {
      "cell_type": "code",
      "source": [
        "def bfs(g,s,t,h):\n",
        "    open_l=[(s,[s])]\n",
        "    closed_l=[]\n",
        "    while open_l:\n",
        "        open_l.sort(key=lambda x:h[x[0]])\n",
        "        c_node,p=open_l.pop(0)\n",
        "        if c_node==t:\n",
        "            return p\n",
        "        closed_l.append(c_node)\n",
        "        for nb,cost in g[c_node]:\n",
        "            if nb not in closed_l:\n",
        "                open_l.append((nb,p+[nb]))\n",
        "    return None\n",
        "\n",
        "g={\n",
        "    'X':[('Y',2),('Z',5),('W',3)],\n",
        "    'Y':[('A',6),('B',4),('C',7)],\n",
        "    'Z':[('D',8)],\n",
        "    'W':[('E',3),('F',4),('G',5)],\n",
        "    'A':[('H',5)],\n",
        "    'B':[('I',7)],\n",
        "    'C':[('J',3)],\n",
        "    'D':[('K',2),('L',3)],\n",
        "    'E':[('M',4),('N',5)],\n",
        "    'F':[('O',6)],\n",
        "    'G':[('P',7)],\n",
        "    'H':[],\n",
        "    'I':[],\n",
        "    'J':[],\n",
        "    'K':[],\n",
        "    'L':[],\n",
        "    'M':[],\n",
        "    'N':[],\n",
        "    'O':[],\n",
        "    'P':[]\n",
        "}\n",
        "h={\n",
        "    'X':11,'Y':9,'Z':8,'W':7,'A':7,'B':6,'C':5,'D':8,'E':7,'F':6,'G':5,\n",
        "    'H':4,'I':3,'J':5,'K':5,'L':4,'M':3,'N':4,'O':2,'P':1\n",
        "}\n",
        "p_bfs=bfs(g,'D','L',h)\n",
        "print(f\"Best-First Search Path: {p_bfs}\")\n"
      ],
      "metadata": {
        "colab": {
          "base_uri": "https://localhost:8080/"
        },
        "id": "7O5I8IpS5XqT",
        "outputId": "250239f0-ffa2-4076-e997-83c076a62a42"
      },
      "execution_count": 9,
      "outputs": [
        {
          "output_type": "stream",
          "name": "stdout",
          "text": [
            "Best-First Search Path: ['D', 'L']\n"
          ]
        }
      ]
    },
    {
      "cell_type": "markdown",
      "source": [
        "Adversarial Search TEchnique 1.Min-MAx 2.Alpha-Beta"
      ],
      "metadata": {
        "id": "NHJm4jdv5cI4"
      }
    },
    {
      "cell_type": "code",
      "source": [
        "def mm(g,n,maxim):\n",
        "    if n not in g or not g[n]:\n",
        "        return eval(n)\n",
        "    if maxim:\n",
        "        best=float('-inf')\n",
        "        for c in g[n]:\n",
        "            v=mm(g,c,False)\n",
        "            best=max(best,v)\n",
        "        return best\n",
        "    else:\n",
        "        best=float('inf')\n",
        "        for c in g[n]:\n",
        "            v=mm(g,c,True)\n",
        "            best=min(best,v)\n",
        "        return best\n",
        "def eval(n):\n",
        "    goal='P'\n",
        "    if n==goal:\n",
        "        return 1\n",
        "    else:\n",
        "        return 0\n",
        "g={\n",
        "    'X':['Y','Z','W'],\n",
        "    'Y':['A','B','C'],\n",
        "    'Z':['D'],\n",
        "    'W':['E','F','G'],\n",
        "    'A':['H'],\n",
        "    'B':['I'],\n",
        "    'C':['J'],\n",
        "    'D':['K','L'],\n",
        "    'E':['M','N'],\n",
        "    'F':['O'],\n",
        "    'G':['P'],\n",
        "    'H':[],\n",
        "    'I':[],\n",
        "    'J':[],\n",
        "    'K':[],\n",
        "    'L':[],\n",
        "    'M':[],\n",
        "    'N':[],\n",
        "    'O':[],\n",
        "    'P':[]\n",
        "}\n",
        "res=mm(g,'P',True)\n",
        "print(f\"Min-Max Result: {res}\")\n"
      ],
      "metadata": {
        "colab": {
          "base_uri": "https://localhost:8080/"
        },
        "id": "7Kxh882y5b0i",
        "outputId": "e76277c2-d8df-44d8-e796-990e1e81bc73"
      },
      "execution_count": 12,
      "outputs": [
        {
          "output_type": "stream",
          "name": "stdout",
          "text": [
            "Min-Max Result: 1\n"
          ]
        }
      ]
    },
    {
      "cell_type": "code",
      "source": [
        "def ab(g,n,d,alpha,beta,maxim):\n",
        "    if n not in g or not g[n]:\n",
        "        return eval(n)\n",
        "    if maxim:\n",
        "        best=float('-inf')\n",
        "        for c in g[n]:\n",
        "            v=ab(g,c,d+1,alpha,beta,False)\n",
        "            best=max(best,v)\n",
        "            alpha=max(alpha,best)\n",
        "            if beta<=alpha:\n",
        "                break\n",
        "        return best\n",
        "    else:\n",
        "        best=float('inf')\n",
        "        for c in g[n]:\n",
        "            v=ab(g,c,d+1,alpha,beta,True)\n",
        "            best=min(best,v)\n",
        "            beta=min(beta,best)\n",
        "            if beta<=alpha:\n",
        "                break\n",
        "        return best\n",
        "\n",
        "def eval(n):\n",
        "    goal='P'\n",
        "    if n==goal:\n",
        "        return 1\n",
        "    else:\n",
        "        return 0\n",
        "\n",
        "g={\n",
        "    'X':['Y','Z','W'],\n",
        "    'Y':['A','B','C'],\n",
        "    'Z':['D'],\n",
        "    'W':['E','F','G'],\n",
        "    'A':['H'],\n",
        "    'B':['I'],\n",
        "    'C':['J'],\n",
        "    'D':['K','L'],\n",
        "    'E':['M','N'],\n",
        "    'F':['O'],\n",
        "    'G':['P'],\n",
        "    'H':[],\n",
        "    'I':[],\n",
        "    'J':[],\n",
        "    'K':[],\n",
        "    'L':[],\n",
        "    'M':[],\n",
        "    'N':[],\n",
        "    'O':[],\n",
        "    'P':[]\n",
        "}\n",
        "\n",
        "res=ab(g,'X',0,float('-inf'),float('inf'),True)\n",
        "print(f\"Alpha-Beta Result: {res}\")\n"
      ],
      "metadata": {
        "colab": {
          "base_uri": "https://localhost:8080/"
        },
        "id": "xSOqjLFb521R",
        "outputId": "f208517e-c03c-4735-ce71-7796102e0bb5"
      },
      "execution_count": null,
      "outputs": [
        {
          "output_type": "stream",
          "name": "stdout",
          "text": [
            "Alpha-Beta Result: 0\n"
          ]
        }
      ]
    }
  ]
}